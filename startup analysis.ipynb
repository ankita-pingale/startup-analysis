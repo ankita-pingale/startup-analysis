{
 "cells": [
  {
   "cell_type": "code",
   "execution_count": 2,
   "id": "f610fd89-eb48-4822-b393-aa41197e42a9",
   "metadata": {},
   "outputs": [],
   "source": [
    "import pandas as pd\n",
    "import numpy as np\n",
    "import seaborn as sns\n",
    "import matplotlib.pyplot as plt\n",
    "import plotly.express as px"
   ]
  },
  {
   "cell_type": "code",
   "execution_count": 3,
   "id": "1f27b734-ff5b-4b88-8a94-263e87eaae8f",
   "metadata": {},
   "outputs": [],
   "source": [
    "df=pd.read_csv('startup_funding.csv')"
   ]
  },
  {
   "cell_type": "code",
   "execution_count": 4,
   "id": "51bb8070-80af-47db-8df6-ccca41d8bdc5",
   "metadata": {},
   "outputs": [
    {
     "data": {
      "text/html": [
       "<div>\n",
       "<style scoped>\n",
       "    .dataframe tbody tr th:only-of-type {\n",
       "        vertical-align: middle;\n",
       "    }\n",
       "\n",
       "    .dataframe tbody tr th {\n",
       "        vertical-align: top;\n",
       "    }\n",
       "\n",
       "    .dataframe thead th {\n",
       "        text-align: right;\n",
       "    }\n",
       "</style>\n",
       "<table border=\"1\" class=\"dataframe\">\n",
       "  <thead>\n",
       "    <tr style=\"text-align: right;\">\n",
       "      <th></th>\n",
       "      <th>Sr No</th>\n",
       "      <th>Date dd/mm/yyyy</th>\n",
       "      <th>Startup Name</th>\n",
       "      <th>Industry Vertical</th>\n",
       "      <th>SubVertical</th>\n",
       "      <th>City  Location</th>\n",
       "      <th>Investors Name</th>\n",
       "      <th>InvestmentnType</th>\n",
       "      <th>Amount in USD</th>\n",
       "      <th>Remarks</th>\n",
       "    </tr>\n",
       "  </thead>\n",
       "  <tbody>\n",
       "    <tr>\n",
       "      <th>0</th>\n",
       "      <td>1</td>\n",
       "      <td>09/01/2020</td>\n",
       "      <td>BYJU’S</td>\n",
       "      <td>E-Tech</td>\n",
       "      <td>E-learning</td>\n",
       "      <td>Bengaluru</td>\n",
       "      <td>Tiger Global Management</td>\n",
       "      <td>Private Equity Round</td>\n",
       "      <td>20,00,00,000</td>\n",
       "      <td>NaN</td>\n",
       "    </tr>\n",
       "    <tr>\n",
       "      <th>1</th>\n",
       "      <td>2</td>\n",
       "      <td>13/01/2020</td>\n",
       "      <td>Shuttl</td>\n",
       "      <td>Transportation</td>\n",
       "      <td>App based shuttle service</td>\n",
       "      <td>Gurgaon</td>\n",
       "      <td>Susquehanna Growth Equity</td>\n",
       "      <td>Series C</td>\n",
       "      <td>80,48,394</td>\n",
       "      <td>NaN</td>\n",
       "    </tr>\n",
       "    <tr>\n",
       "      <th>2</th>\n",
       "      <td>3</td>\n",
       "      <td>09/01/2020</td>\n",
       "      <td>Mamaearth</td>\n",
       "      <td>E-commerce</td>\n",
       "      <td>Retailer of baby and toddler products</td>\n",
       "      <td>Bengaluru</td>\n",
       "      <td>Sequoia Capital India</td>\n",
       "      <td>Series B</td>\n",
       "      <td>1,83,58,860</td>\n",
       "      <td>NaN</td>\n",
       "    </tr>\n",
       "    <tr>\n",
       "      <th>3</th>\n",
       "      <td>4</td>\n",
       "      <td>02/01/2020</td>\n",
       "      <td>https://www.wealthbucket.in/</td>\n",
       "      <td>FinTech</td>\n",
       "      <td>Online Investment</td>\n",
       "      <td>New Delhi</td>\n",
       "      <td>Vinod Khatumal</td>\n",
       "      <td>Pre-series A</td>\n",
       "      <td>30,00,000</td>\n",
       "      <td>NaN</td>\n",
       "    </tr>\n",
       "    <tr>\n",
       "      <th>4</th>\n",
       "      <td>5</td>\n",
       "      <td>02/01/2020</td>\n",
       "      <td>Fashor</td>\n",
       "      <td>Fashion and Apparel</td>\n",
       "      <td>Embroiled Clothes For Women</td>\n",
       "      <td>Mumbai</td>\n",
       "      <td>Sprout Venture Partners</td>\n",
       "      <td>Seed Round</td>\n",
       "      <td>18,00,000</td>\n",
       "      <td>NaN</td>\n",
       "    </tr>\n",
       "  </tbody>\n",
       "</table>\n",
       "</div>"
      ],
      "text/plain": [
       "   Sr No Date dd/mm/yyyy                  Startup Name    Industry Vertical  \\\n",
       "0      1      09/01/2020                        BYJU’S               E-Tech   \n",
       "1      2      13/01/2020                        Shuttl       Transportation   \n",
       "2      3      09/01/2020                     Mamaearth           E-commerce   \n",
       "3      4      02/01/2020  https://www.wealthbucket.in/              FinTech   \n",
       "4      5      02/01/2020                        Fashor  Fashion and Apparel   \n",
       "\n",
       "                             SubVertical City  Location  \\\n",
       "0                             E-learning      Bengaluru   \n",
       "1              App based shuttle service        Gurgaon   \n",
       "2  Retailer of baby and toddler products      Bengaluru   \n",
       "3                      Online Investment      New Delhi   \n",
       "4            Embroiled Clothes For Women         Mumbai   \n",
       "\n",
       "              Investors Name       InvestmentnType Amount in USD Remarks  \n",
       "0    Tiger Global Management  Private Equity Round  20,00,00,000     NaN  \n",
       "1  Susquehanna Growth Equity              Series C     80,48,394     NaN  \n",
       "2      Sequoia Capital India              Series B   1,83,58,860     NaN  \n",
       "3             Vinod Khatumal          Pre-series A     30,00,000     NaN  \n",
       "4    Sprout Venture Partners            Seed Round     18,00,000     NaN  "
      ]
     },
     "execution_count": 4,
     "metadata": {},
     "output_type": "execute_result"
    }
   ],
   "source": [
    "df.head()"
   ]
  },
  {
   "cell_type": "code",
   "execution_count": 5,
   "id": "1bc714c0-b056-47bc-a5d2-efd2dba89373",
   "metadata": {},
   "outputs": [
    {
     "name": "stdout",
     "output_type": "stream",
     "text": [
      "<class 'pandas.core.frame.DataFrame'>\n",
      "RangeIndex: 3044 entries, 0 to 3043\n",
      "Data columns (total 10 columns):\n",
      " #   Column             Non-Null Count  Dtype \n",
      "---  ------             --------------  ----- \n",
      " 0   Sr No              3044 non-null   int64 \n",
      " 1   Date dd/mm/yyyy    3044 non-null   object\n",
      " 2   Startup Name       3044 non-null   object\n",
      " 3   Industry Vertical  2873 non-null   object\n",
      " 4   SubVertical        2108 non-null   object\n",
      " 5   City  Location     2864 non-null   object\n",
      " 6   Investors Name     3020 non-null   object\n",
      " 7   InvestmentnType    3040 non-null   object\n",
      " 8   Amount in USD      2084 non-null   object\n",
      " 9   Remarks            419 non-null    object\n",
      "dtypes: int64(1), object(9)\n",
      "memory usage: 237.9+ KB\n"
     ]
    }
   ],
   "source": [
    "df.info()"
   ]
  },
  {
   "cell_type": "code",
   "execution_count": 6,
   "id": "900f8dd6-b314-4aec-a8b3-10265c2510da",
   "metadata": {},
   "outputs": [],
   "source": [
    "#Setting the index\n",
    "df.set_index('Sr No',inplace = True)"
   ]
  },
  {
   "cell_type": "code",
   "execution_count": 7,
   "id": "ed4ff196-1781-4a4c-a71b-01a11f4cda2c",
   "metadata": {},
   "outputs": [
    {
     "data": {
      "text/html": [
       "<div>\n",
       "<style scoped>\n",
       "    .dataframe tbody tr th:only-of-type {\n",
       "        vertical-align: middle;\n",
       "    }\n",
       "\n",
       "    .dataframe tbody tr th {\n",
       "        vertical-align: top;\n",
       "    }\n",
       "\n",
       "    .dataframe thead th {\n",
       "        text-align: right;\n",
       "    }\n",
       "</style>\n",
       "<table border=\"1\" class=\"dataframe\">\n",
       "  <thead>\n",
       "    <tr style=\"text-align: right;\">\n",
       "      <th></th>\n",
       "      <th>Date dd/mm/yyyy</th>\n",
       "      <th>Startup Name</th>\n",
       "      <th>Industry Vertical</th>\n",
       "      <th>SubVertical</th>\n",
       "      <th>City  Location</th>\n",
       "      <th>Investors Name</th>\n",
       "      <th>InvestmentnType</th>\n",
       "      <th>Amount in USD</th>\n",
       "      <th>Remarks</th>\n",
       "    </tr>\n",
       "    <tr>\n",
       "      <th>Sr No</th>\n",
       "      <th></th>\n",
       "      <th></th>\n",
       "      <th></th>\n",
       "      <th></th>\n",
       "      <th></th>\n",
       "      <th></th>\n",
       "      <th></th>\n",
       "      <th></th>\n",
       "      <th></th>\n",
       "    </tr>\n",
       "  </thead>\n",
       "  <tbody>\n",
       "    <tr>\n",
       "      <th>1</th>\n",
       "      <td>09/01/2020</td>\n",
       "      <td>BYJU’S</td>\n",
       "      <td>E-Tech</td>\n",
       "      <td>E-learning</td>\n",
       "      <td>Bengaluru</td>\n",
       "      <td>Tiger Global Management</td>\n",
       "      <td>Private Equity Round</td>\n",
       "      <td>20,00,00,000</td>\n",
       "      <td>NaN</td>\n",
       "    </tr>\n",
       "    <tr>\n",
       "      <th>2</th>\n",
       "      <td>13/01/2020</td>\n",
       "      <td>Shuttl</td>\n",
       "      <td>Transportation</td>\n",
       "      <td>App based shuttle service</td>\n",
       "      <td>Gurgaon</td>\n",
       "      <td>Susquehanna Growth Equity</td>\n",
       "      <td>Series C</td>\n",
       "      <td>80,48,394</td>\n",
       "      <td>NaN</td>\n",
       "    </tr>\n",
       "    <tr>\n",
       "      <th>3</th>\n",
       "      <td>09/01/2020</td>\n",
       "      <td>Mamaearth</td>\n",
       "      <td>E-commerce</td>\n",
       "      <td>Retailer of baby and toddler products</td>\n",
       "      <td>Bengaluru</td>\n",
       "      <td>Sequoia Capital India</td>\n",
       "      <td>Series B</td>\n",
       "      <td>1,83,58,860</td>\n",
       "      <td>NaN</td>\n",
       "    </tr>\n",
       "    <tr>\n",
       "      <th>4</th>\n",
       "      <td>02/01/2020</td>\n",
       "      <td>https://www.wealthbucket.in/</td>\n",
       "      <td>FinTech</td>\n",
       "      <td>Online Investment</td>\n",
       "      <td>New Delhi</td>\n",
       "      <td>Vinod Khatumal</td>\n",
       "      <td>Pre-series A</td>\n",
       "      <td>30,00,000</td>\n",
       "      <td>NaN</td>\n",
       "    </tr>\n",
       "    <tr>\n",
       "      <th>5</th>\n",
       "      <td>02/01/2020</td>\n",
       "      <td>Fashor</td>\n",
       "      <td>Fashion and Apparel</td>\n",
       "      <td>Embroiled Clothes For Women</td>\n",
       "      <td>Mumbai</td>\n",
       "      <td>Sprout Venture Partners</td>\n",
       "      <td>Seed Round</td>\n",
       "      <td>18,00,000</td>\n",
       "      <td>NaN</td>\n",
       "    </tr>\n",
       "  </tbody>\n",
       "</table>\n",
       "</div>"
      ],
      "text/plain": [
       "      Date dd/mm/yyyy                  Startup Name    Industry Vertical  \\\n",
       "Sr No                                                                      \n",
       "1          09/01/2020                        BYJU’S               E-Tech   \n",
       "2          13/01/2020                        Shuttl       Transportation   \n",
       "3          09/01/2020                     Mamaearth           E-commerce   \n",
       "4          02/01/2020  https://www.wealthbucket.in/              FinTech   \n",
       "5          02/01/2020                        Fashor  Fashion and Apparel   \n",
       "\n",
       "                                 SubVertical City  Location  \\\n",
       "Sr No                                                         \n",
       "1                                 E-learning      Bengaluru   \n",
       "2                  App based shuttle service        Gurgaon   \n",
       "3      Retailer of baby and toddler products      Bengaluru   \n",
       "4                          Online Investment      New Delhi   \n",
       "5                Embroiled Clothes For Women         Mumbai   \n",
       "\n",
       "                  Investors Name       InvestmentnType Amount in USD Remarks  \n",
       "Sr No                                                                         \n",
       "1        Tiger Global Management  Private Equity Round  20,00,00,000     NaN  \n",
       "2      Susquehanna Growth Equity              Series C     80,48,394     NaN  \n",
       "3          Sequoia Capital India              Series B   1,83,58,860     NaN  \n",
       "4                 Vinod Khatumal          Pre-series A     30,00,000     NaN  \n",
       "5        Sprout Venture Partners            Seed Round     18,00,000     NaN  "
      ]
     },
     "execution_count": 7,
     "metadata": {},
     "output_type": "execute_result"
    }
   ],
   "source": [
    "df.head()"
   ]
  },
  {
   "cell_type": "code",
   "execution_count": 8,
   "id": "bf389ff8-d511-4367-9649-4b8e2ace44cb",
   "metadata": {},
   "outputs": [
    {
     "data": {
      "text/plain": [
       "(3044, 9)"
      ]
     },
     "execution_count": 8,
     "metadata": {},
     "output_type": "execute_result"
    }
   ],
   "source": [
    "df.shape"
   ]
  },
  {
   "cell_type": "code",
   "execution_count": 9,
   "id": "1366b343-96ca-4460-a73e-a895bd262e13",
   "metadata": {},
   "outputs": [],
   "source": [
    "#dropping the unwanted column\n",
    "df.drop(columns= ['Remarks'],inplace = True)"
   ]
  },
  {
   "cell_type": "code",
   "execution_count": 10,
   "id": "7d913d11-a0f5-4a84-8659-477a96b3decf",
   "metadata": {},
   "outputs": [],
   "source": [
    "#renaming the columns\n",
    "df.rename(columns = {'Date dd/mm/yyyy':'Date',\n",
    "                     'Startup Name':'startup',\n",
    "                     'Industry Vertical' : 'Vertical',\n",
    "                     'SubVertical' : 'Subvertical',\n",
    "                     'City  Location' : 'City',\n",
    "                     'Investors Name' : 'Investor',\n",
    "                     'InvestmentnType' : 'Investment_type',\n",
    "                     'Amount in USD': 'Amount'\n",
    "\n",
    "\n",
    "\n",
    "\n",
    "},inplace = True)"
   ]
  },
  {
   "cell_type": "code",
   "execution_count": 11,
   "id": "89b08e93-5636-4519-a36c-47d573f2e9d0",
   "metadata": {},
   "outputs": [
    {
     "data": {
      "text/html": [
       "<div>\n",
       "<style scoped>\n",
       "    .dataframe tbody tr th:only-of-type {\n",
       "        vertical-align: middle;\n",
       "    }\n",
       "\n",
       "    .dataframe tbody tr th {\n",
       "        vertical-align: top;\n",
       "    }\n",
       "\n",
       "    .dataframe thead th {\n",
       "        text-align: right;\n",
       "    }\n",
       "</style>\n",
       "<table border=\"1\" class=\"dataframe\">\n",
       "  <thead>\n",
       "    <tr style=\"text-align: right;\">\n",
       "      <th></th>\n",
       "      <th>Date</th>\n",
       "      <th>startup</th>\n",
       "      <th>Vertical</th>\n",
       "      <th>Subvertical</th>\n",
       "      <th>City</th>\n",
       "      <th>Investor</th>\n",
       "      <th>Investment_type</th>\n",
       "      <th>Amount</th>\n",
       "    </tr>\n",
       "    <tr>\n",
       "      <th>Sr No</th>\n",
       "      <th></th>\n",
       "      <th></th>\n",
       "      <th></th>\n",
       "      <th></th>\n",
       "      <th></th>\n",
       "      <th></th>\n",
       "      <th></th>\n",
       "      <th></th>\n",
       "    </tr>\n",
       "  </thead>\n",
       "  <tbody>\n",
       "    <tr>\n",
       "      <th>1</th>\n",
       "      <td>09/01/2020</td>\n",
       "      <td>BYJU’S</td>\n",
       "      <td>E-Tech</td>\n",
       "      <td>E-learning</td>\n",
       "      <td>Bengaluru</td>\n",
       "      <td>Tiger Global Management</td>\n",
       "      <td>Private Equity Round</td>\n",
       "      <td>20,00,00,000</td>\n",
       "    </tr>\n",
       "    <tr>\n",
       "      <th>2</th>\n",
       "      <td>13/01/2020</td>\n",
       "      <td>Shuttl</td>\n",
       "      <td>Transportation</td>\n",
       "      <td>App based shuttle service</td>\n",
       "      <td>Gurgaon</td>\n",
       "      <td>Susquehanna Growth Equity</td>\n",
       "      <td>Series C</td>\n",
       "      <td>80,48,394</td>\n",
       "    </tr>\n",
       "    <tr>\n",
       "      <th>3</th>\n",
       "      <td>09/01/2020</td>\n",
       "      <td>Mamaearth</td>\n",
       "      <td>E-commerce</td>\n",
       "      <td>Retailer of baby and toddler products</td>\n",
       "      <td>Bengaluru</td>\n",
       "      <td>Sequoia Capital India</td>\n",
       "      <td>Series B</td>\n",
       "      <td>1,83,58,860</td>\n",
       "    </tr>\n",
       "    <tr>\n",
       "      <th>4</th>\n",
       "      <td>02/01/2020</td>\n",
       "      <td>https://www.wealthbucket.in/</td>\n",
       "      <td>FinTech</td>\n",
       "      <td>Online Investment</td>\n",
       "      <td>New Delhi</td>\n",
       "      <td>Vinod Khatumal</td>\n",
       "      <td>Pre-series A</td>\n",
       "      <td>30,00,000</td>\n",
       "    </tr>\n",
       "    <tr>\n",
       "      <th>5</th>\n",
       "      <td>02/01/2020</td>\n",
       "      <td>Fashor</td>\n",
       "      <td>Fashion and Apparel</td>\n",
       "      <td>Embroiled Clothes For Women</td>\n",
       "      <td>Mumbai</td>\n",
       "      <td>Sprout Venture Partners</td>\n",
       "      <td>Seed Round</td>\n",
       "      <td>18,00,000</td>\n",
       "    </tr>\n",
       "  </tbody>\n",
       "</table>\n",
       "</div>"
      ],
      "text/plain": [
       "             Date                       startup             Vertical  \\\n",
       "Sr No                                                                  \n",
       "1      09/01/2020                        BYJU’S               E-Tech   \n",
       "2      13/01/2020                        Shuttl       Transportation   \n",
       "3      09/01/2020                     Mamaearth           E-commerce   \n",
       "4      02/01/2020  https://www.wealthbucket.in/              FinTech   \n",
       "5      02/01/2020                        Fashor  Fashion and Apparel   \n",
       "\n",
       "                                 Subvertical       City  \\\n",
       "Sr No                                                     \n",
       "1                                 E-learning  Bengaluru   \n",
       "2                  App based shuttle service    Gurgaon   \n",
       "3      Retailer of baby and toddler products  Bengaluru   \n",
       "4                          Online Investment  New Delhi   \n",
       "5                Embroiled Clothes For Women     Mumbai   \n",
       "\n",
       "                        Investor       Investment_type        Amount  \n",
       "Sr No                                                                 \n",
       "1        Tiger Global Management  Private Equity Round  20,00,00,000  \n",
       "2      Susquehanna Growth Equity              Series C     80,48,394  \n",
       "3          Sequoia Capital India              Series B   1,83,58,860  \n",
       "4                 Vinod Khatumal          Pre-series A     30,00,000  \n",
       "5        Sprout Venture Partners            Seed Round     18,00,000  "
      ]
     },
     "execution_count": 11,
     "metadata": {},
     "output_type": "execute_result"
    }
   ],
   "source": [
    "df.head()"
   ]
  },
  {
   "cell_type": "code",
   "execution_count": 12,
   "id": "3324da42-ff27-4949-bb48-069750c481c1",
   "metadata": {},
   "outputs": [
    {
     "data": {
      "text/plain": [
       "Vertical\n",
       "Consumer Internet    941\n",
       "Technology           478\n",
       "eCommerce            186\n",
       "Healthcare            70\n",
       "Finance               62\n",
       "Name: count, dtype: int64"
      ]
     },
     "execution_count": 12,
     "metadata": {},
     "output_type": "execute_result"
    }
   ],
   "source": [
    "df['Vertical'].value_counts().head(5)"
   ]
  },
  {
   "cell_type": "code",
   "execution_count": 13,
   "id": "11a472ed-eafc-41c5-8e1f-a5e0dd04461b",
   "metadata": {},
   "outputs": [
    {
     "data": {
      "text/plain": [
       "Subvertical\n",
       "Online Lending Platform          11\n",
       "Online Pharmacy                  10\n",
       "Food Delivery Platform            8\n",
       "Online Lending                    5\n",
       "Online Learning Platform          5\n",
       "Online lending platform           5\n",
       "Education                         5\n",
       "Online Education Platform         5\n",
       "Non-Banking Financial Company     4\n",
       "Online Food Delivery              4\n",
       "Name: count, dtype: int64"
      ]
     },
     "execution_count": 13,
     "metadata": {},
     "output_type": "execute_result"
    }
   ],
   "source": [
    "df['Subvertical'].value_counts().head(10)"
   ]
  },
  {
   "cell_type": "code",
   "execution_count": 14,
   "id": "ce1e0c20-d9b1-4f57-9bd0-58a47c9f30fe",
   "metadata": {},
   "outputs": [
    {
     "data": {
      "text/plain": [
       "Date                0.000000\n",
       "startup             0.000000\n",
       "Vertical            5.617608\n",
       "Subvertical        30.749014\n",
       "City                5.913272\n",
       "Investor            0.788436\n",
       "Investment_type     0.131406\n",
       "Amount             31.537451\n",
       "dtype: float64"
      ]
     },
     "execution_count": 14,
     "metadata": {},
     "output_type": "execute_result"
    }
   ],
   "source": [
    "#Missing values\n",
    "df.isnull().mean() * 100"
   ]
  },
  {
   "cell_type": "code",
   "execution_count": 15,
   "id": "5acc8d87-9e7f-4884-8a74-5658469d8cb7",
   "metadata": {},
   "outputs": [],
   "source": [
    "df.dropna(subset = ['Vertical','City','Investor','Investment_type'],inplace = True)"
   ]
  },
  {
   "cell_type": "code",
   "execution_count": 16,
   "id": "0af8e48b-fcff-4105-a63a-cb867aace3cf",
   "metadata": {},
   "outputs": [
    {
     "data": {
      "text/plain": [
       "Date                0.000000\n",
       "startup             0.000000\n",
       "Vertical            0.000000\n",
       "Subvertical        26.657264\n",
       "City                0.000000\n",
       "Investor            0.000000\n",
       "Investment_type     0.000000\n",
       "Amount             32.087447\n",
       "dtype: float64"
      ]
     },
     "execution_count": 16,
     "metadata": {},
     "output_type": "execute_result"
    }
   ],
   "source": [
    "df.isnull().mean() * 100"
   ]
  },
  {
   "cell_type": "code",
   "execution_count": 17,
   "id": "d6f5be12-a1aa-4cb4-988e-f225a5fa8d1c",
   "metadata": {},
   "outputs": [],
   "source": [
    "df['Amount'] =df['Amount'].str.replace(',','')\n",
    "df['Amount'] =df['Amount'].str.replace('undisclosed','')\n"
   ]
  },
  {
   "cell_type": "code",
   "execution_count": 18,
   "id": "ebfb6cfe-d93f-4e2f-b8a4-684990fa39b5",
   "metadata": {},
   "outputs": [
    {
     "data": {
      "text/html": [
       "<div>\n",
       "<style scoped>\n",
       "    .dataframe tbody tr th:only-of-type {\n",
       "        vertical-align: middle;\n",
       "    }\n",
       "\n",
       "    .dataframe tbody tr th {\n",
       "        vertical-align: top;\n",
       "    }\n",
       "\n",
       "    .dataframe thead th {\n",
       "        text-align: right;\n",
       "    }\n",
       "</style>\n",
       "<table border=\"1\" class=\"dataframe\">\n",
       "  <thead>\n",
       "    <tr style=\"text-align: right;\">\n",
       "      <th></th>\n",
       "      <th>Date</th>\n",
       "      <th>startup</th>\n",
       "      <th>Vertical</th>\n",
       "      <th>Subvertical</th>\n",
       "      <th>City</th>\n",
       "      <th>Investor</th>\n",
       "      <th>Investment_type</th>\n",
       "      <th>Amount</th>\n",
       "    </tr>\n",
       "    <tr>\n",
       "      <th>Sr No</th>\n",
       "      <th></th>\n",
       "      <th></th>\n",
       "      <th></th>\n",
       "      <th></th>\n",
       "      <th></th>\n",
       "      <th></th>\n",
       "      <th></th>\n",
       "      <th></th>\n",
       "    </tr>\n",
       "  </thead>\n",
       "  <tbody>\n",
       "    <tr>\n",
       "      <th>1069</th>\n",
       "      <td>16/01/2017</td>\n",
       "      <td>ZoloStays</td>\n",
       "      <td>Consumer Internet</td>\n",
       "      <td>Branded PG Accomodation booking platform</td>\n",
       "      <td>Bangalore</td>\n",
       "      <td>Nexus Venture Partners, Innoven Capital</td>\n",
       "      <td>Private Equity</td>\n",
       "      <td>5000000</td>\n",
       "    </tr>\n",
       "  </tbody>\n",
       "</table>\n",
       "</div>"
      ],
      "text/plain": [
       "             Date    startup           Vertical  \\\n",
       "Sr No                                             \n",
       "1069   16/01/2017  ZoloStays  Consumer Internet   \n",
       "\n",
       "                                    Subvertical       City  \\\n",
       "Sr No                                                        \n",
       "1069   Branded PG Accomodation booking platform  Bangalore   \n",
       "\n",
       "                                      Investor Investment_type   Amount  \n",
       "Sr No                                                                    \n",
       "1069   Nexus Venture Partners, Innoven Capital  Private Equity  5000000  "
      ]
     },
     "execution_count": 18,
     "metadata": {},
     "output_type": "execute_result"
    }
   ],
   "source": [
    "df.sample()"
   ]
  },
  {
   "cell_type": "code",
   "execution_count": 19,
   "id": "b4b51cdf-4c4b-4f8d-91f5-5823600855ac",
   "metadata": {},
   "outputs": [],
   "source": [
    "df['Amount'] = pd.to_numeric(df['Amount'],errors = 'coerce')"
   ]
  },
  {
   "cell_type": "code",
   "execution_count": 20,
   "id": "2c2f590a-9c51-4b91-bdea-79c42992c0ce",
   "metadata": {},
   "outputs": [
    {
     "name": "stdout",
     "output_type": "stream",
     "text": [
      "<class 'pandas.core.frame.DataFrame'>\n",
      "Index: 2836 entries, 1 to 2873\n",
      "Data columns (total 8 columns):\n",
      " #   Column           Non-Null Count  Dtype  \n",
      "---  ------           --------------  -----  \n",
      " 0   Date             2836 non-null   object \n",
      " 1   startup          2836 non-null   object \n",
      " 2   Vertical         2836 non-null   object \n",
      " 3   Subvertical      2080 non-null   object \n",
      " 4   City             2836 non-null   object \n",
      " 5   Investor         2836 non-null   object \n",
      " 6   Investment_type  2836 non-null   object \n",
      " 7   Amount           1907 non-null   float64\n",
      "dtypes: float64(1), object(7)\n",
      "memory usage: 199.4+ KB\n"
     ]
    }
   ],
   "source": [
    "df.info()"
   ]
  },
  {
   "cell_type": "code",
   "execution_count": 21,
   "id": "19569f58-54f8-4b52-b43d-91cd7204e4b7",
   "metadata": {},
   "outputs": [
    {
     "data": {
      "text/plain": [
       "Date                 0\n",
       "startup              0\n",
       "Vertical             0\n",
       "Subvertical        756\n",
       "City                 0\n",
       "Investor             0\n",
       "Investment_type      0\n",
       "Amount             929\n",
       "dtype: int64"
      ]
     },
     "execution_count": 21,
     "metadata": {},
     "output_type": "execute_result"
    }
   ],
   "source": [
    "df.isnull().sum()"
   ]
  },
  {
   "cell_type": "code",
   "execution_count": 22,
   "id": "abb04029-c05f-480f-9141-50681f4735f6",
   "metadata": {},
   "outputs": [
    {
     "data": {
      "text/plain": [
       "np.float64(18853769.813843735)"
      ]
     },
     "execution_count": 22,
     "metadata": {},
     "output_type": "execute_result"
    }
   ],
   "source": [
    "df['Amount'].mean()"
   ]
  },
  {
   "cell_type": "code",
   "execution_count": 23,
   "id": "7434dc89-ae4a-4d1f-a51d-ea43c7196164",
   "metadata": {},
   "outputs": [],
   "source": [
    "df['Amount'] = df['Amount'].fillna(df['Amount'].mean())  #Filling the missing values in the amt col with the avg"
   ]
  },
  {
   "cell_type": "code",
   "execution_count": 24,
   "id": "e982f1ae-f0b4-490a-b24e-41b2234d4cf7",
   "metadata": {},
   "outputs": [
    {
     "data": {
      "text/plain": [
       "Date                 0\n",
       "startup              0\n",
       "Vertical             0\n",
       "Subvertical        756\n",
       "City                 0\n",
       "Investor             0\n",
       "Investment_type      0\n",
       "Amount               0\n",
       "dtype: int64"
      ]
     },
     "execution_count": 24,
     "metadata": {},
     "output_type": "execute_result"
    }
   ],
   "source": [
    "df.isnull().sum()"
   ]
  },
  {
   "cell_type": "code",
   "execution_count": 25,
   "id": "6b52b262-14e6-49cb-a729-d32183fd5dae",
   "metadata": {},
   "outputs": [],
   "source": [
    "df['Subvertical'] =df['Subvertical'].fillna('Unknown')"
   ]
  },
  {
   "cell_type": "code",
   "execution_count": 26,
   "id": "45ee5bda-a1db-4077-9830-3d659229134d",
   "metadata": {},
   "outputs": [
    {
     "data": {
      "text/plain": [
       "Sr No\n",
       "1       09/01/2020\n",
       "2       13/01/2020\n",
       "3       09/01/2020\n",
       "4       02/01/2020\n",
       "5       02/01/2020\n",
       "           ...    \n",
       "2869    29/04/2015\n",
       "2870    29/04/2015\n",
       "2871    29/04/2015\n",
       "2872    29/04/2015\n",
       "2873    29/04/2015\n",
       "Name: Date, Length: 2836, dtype: object"
      ]
     },
     "execution_count": 26,
     "metadata": {},
     "output_type": "execute_result"
    }
   ],
   "source": [
    "df['Date']"
   ]
  },
  {
   "cell_type": "code",
   "execution_count": 27,
   "id": "000b14bc-f513-4fdf-8d3f-daa07ab07dcb",
   "metadata": {},
   "outputs": [],
   "source": [
    "def to_inr(dollar):\n",
    "  inr = dollar * 84.38\n",
    "  return inr/10000000"
   ]
  },
  {
   "cell_type": "code",
   "execution_count": 28,
   "id": "61970a77-c6cf-4123-ad2e-b259a0c9d754",
   "metadata": {},
   "outputs": [],
   "source": [
    "df['Amount'] =df['Amount'].apply(to_inr)"
   ]
  },
  {
   "cell_type": "code",
   "execution_count": 29,
   "id": "844de4ec-24f1-4e49-bb9c-7c868ac708c6",
   "metadata": {},
   "outputs": [
    {
     "data": {
      "text/html": [
       "<div>\n",
       "<style scoped>\n",
       "    .dataframe tbody tr th:only-of-type {\n",
       "        vertical-align: middle;\n",
       "    }\n",
       "\n",
       "    .dataframe tbody tr th {\n",
       "        vertical-align: top;\n",
       "    }\n",
       "\n",
       "    .dataframe thead th {\n",
       "        text-align: right;\n",
       "    }\n",
       "</style>\n",
       "<table border=\"1\" class=\"dataframe\">\n",
       "  <thead>\n",
       "    <tr style=\"text-align: right;\">\n",
       "      <th></th>\n",
       "      <th>Date</th>\n",
       "      <th>startup</th>\n",
       "      <th>Vertical</th>\n",
       "      <th>Subvertical</th>\n",
       "      <th>City</th>\n",
       "      <th>Investor</th>\n",
       "      <th>Investment_type</th>\n",
       "      <th>Amount</th>\n",
       "    </tr>\n",
       "    <tr>\n",
       "      <th>Sr No</th>\n",
       "      <th></th>\n",
       "      <th></th>\n",
       "      <th></th>\n",
       "      <th></th>\n",
       "      <th></th>\n",
       "      <th></th>\n",
       "      <th></th>\n",
       "      <th></th>\n",
       "    </tr>\n",
       "  </thead>\n",
       "  <tbody>\n",
       "    <tr>\n",
       "      <th>1</th>\n",
       "      <td>09/01/2020</td>\n",
       "      <td>BYJU’S</td>\n",
       "      <td>E-Tech</td>\n",
       "      <td>E-learning</td>\n",
       "      <td>Bengaluru</td>\n",
       "      <td>Tiger Global Management</td>\n",
       "      <td>Private Equity Round</td>\n",
       "      <td>1687.600000</td>\n",
       "    </tr>\n",
       "    <tr>\n",
       "      <th>2</th>\n",
       "      <td>13/01/2020</td>\n",
       "      <td>Shuttl</td>\n",
       "      <td>Transportation</td>\n",
       "      <td>App based shuttle service</td>\n",
       "      <td>Gurgaon</td>\n",
       "      <td>Susquehanna Growth Equity</td>\n",
       "      <td>Series C</td>\n",
       "      <td>67.912349</td>\n",
       "    </tr>\n",
       "    <tr>\n",
       "      <th>3</th>\n",
       "      <td>09/01/2020</td>\n",
       "      <td>Mamaearth</td>\n",
       "      <td>E-commerce</td>\n",
       "      <td>Retailer of baby and toddler products</td>\n",
       "      <td>Bengaluru</td>\n",
       "      <td>Sequoia Capital India</td>\n",
       "      <td>Series B</td>\n",
       "      <td>154.912061</td>\n",
       "    </tr>\n",
       "    <tr>\n",
       "      <th>4</th>\n",
       "      <td>02/01/2020</td>\n",
       "      <td>https://www.wealthbucket.in/</td>\n",
       "      <td>FinTech</td>\n",
       "      <td>Online Investment</td>\n",
       "      <td>New Delhi</td>\n",
       "      <td>Vinod Khatumal</td>\n",
       "      <td>Pre-series A</td>\n",
       "      <td>25.314000</td>\n",
       "    </tr>\n",
       "    <tr>\n",
       "      <th>5</th>\n",
       "      <td>02/01/2020</td>\n",
       "      <td>Fashor</td>\n",
       "      <td>Fashion and Apparel</td>\n",
       "      <td>Embroiled Clothes For Women</td>\n",
       "      <td>Mumbai</td>\n",
       "      <td>Sprout Venture Partners</td>\n",
       "      <td>Seed Round</td>\n",
       "      <td>15.188400</td>\n",
       "    </tr>\n",
       "  </tbody>\n",
       "</table>\n",
       "</div>"
      ],
      "text/plain": [
       "             Date                       startup             Vertical  \\\n",
       "Sr No                                                                  \n",
       "1      09/01/2020                        BYJU’S               E-Tech   \n",
       "2      13/01/2020                        Shuttl       Transportation   \n",
       "3      09/01/2020                     Mamaearth           E-commerce   \n",
       "4      02/01/2020  https://www.wealthbucket.in/              FinTech   \n",
       "5      02/01/2020                        Fashor  Fashion and Apparel   \n",
       "\n",
       "                                 Subvertical       City  \\\n",
       "Sr No                                                     \n",
       "1                                 E-learning  Bengaluru   \n",
       "2                  App based shuttle service    Gurgaon   \n",
       "3      Retailer of baby and toddler products  Bengaluru   \n",
       "4                          Online Investment  New Delhi   \n",
       "5                Embroiled Clothes For Women     Mumbai   \n",
       "\n",
       "                        Investor       Investment_type       Amount  \n",
       "Sr No                                                                \n",
       "1        Tiger Global Management  Private Equity Round  1687.600000  \n",
       "2      Susquehanna Growth Equity              Series C    67.912349  \n",
       "3          Sequoia Capital India              Series B   154.912061  \n",
       "4                 Vinod Khatumal          Pre-series A    25.314000  \n",
       "5        Sprout Venture Partners            Seed Round    15.188400  "
      ]
     },
     "execution_count": 29,
     "metadata": {},
     "output_type": "execute_result"
    }
   ],
   "source": [
    "df.head()"
   ]
  },
  {
   "cell_type": "code",
   "execution_count": 30,
   "id": "debd6f0c-8ae4-4388-92a2-6a5d37ec5850",
   "metadata": {},
   "outputs": [
    {
     "data": {
      "text/plain": [
       "City\n",
       "Bangalore                 699\n",
       "Mumbai                    556\n",
       "New Delhi                 421\n",
       "Gurgaon                   285\n",
       "Bengaluru                 136\n",
       "                         ... \n",
       "India / US                  1\n",
       "\\\\xc2\\\\xa0Bangalore         1\n",
       "\\\\xc2\\\\xa0Noida             1\n",
       "\\\\xc2\\\\xa0Mumbai            1\n",
       "New Delhi / California      1\n",
       "Name: count, Length: 109, dtype: int64"
      ]
     },
     "execution_count": 30,
     "metadata": {},
     "output_type": "execute_result"
    }
   ],
   "source": [
    "df['City'].value_counts()"
   ]
  },
  {
   "cell_type": "code",
   "execution_count": 37,
   "id": "ec8b65f6-184a-43bb-ba2a-22370335b230",
   "metadata": {},
   "outputs": [
    {
     "data": {
      "image/png": "[encoded data removed]",
      "text/plain": [
       "<Figure size 640x480 with 1 Axes>"
      ]
     },
     "metadata": {},
     "output_type": "display_data"
    }
   ],
   "source": [
    "#top investors\n",
    "top_investor=df.groupby('Investor')['Amount'].sum().sort_values(ascending=False).head(5)\n",
    "top_investor.plot(kind='bar',title='Top investors')\n",
    "plt.xlabel('Investor name')\n",
    "plt.ylabel('Total investment Amount')\n",
    "plt.show()"
   ]
  },
  {
   "cell_type": "code",
   "execution_count": 33,
   "id": "21d74d0a-e105-4185-8a3b-54fb2e13deea",
   "metadata": {},
   "outputs": [
    {
     "data": {
      "text/plain": [
       "<Axes: title={'center': 'top investing cities'}, xlabel='City'>"
      ]
     },
     "execution_count": 33,
     "metadata": {},
     "output_type": "execute_result"
    },
    {
     "data": {
      "image/png": "[encoded data removed]",
      "text/plain": [
       "<Figure size 640x480 with 1 Axes>"
      ]
     },
     "metadata": {},
     "output_type": "display_data"
    }
   ],
   "source": [
    "df['City'].value_counts().head(5).plot(kind = 'bar',title='top investing cities')"
   ]
  },
  {
   "cell_type": "code",
   "execution_count": 55,
   "id": "c49bfe51-1912-4b6e-bf3a-0b410a5e6a93",
   "metadata": {},
   "outputs": [
    {
     "data": {
      "image/png": "[encoded data removed]",
      "text/plain": [
       "<Figure size 640x480 with 1 Axes>"
      ]
     },
     "metadata": {},
     "output_type": "display_data"
    }
   ],
   "source": [
    "#investment distribution by city\n",
    "investment_city=df.groupby('City')['Amount'].sum().head(3)\n",
    "investment_city.plot(kind='pie',title='Investment Distributiion by city')\n",
    "plt.show()"
   ]
  },
  {
   "cell_type": "code",
   "execution_count": 46,
   "id": "ffae84a5-b497-4369-a535-55d4c523b157",
   "metadata": {},
   "outputs": [],
   "source": [
    "#Replace variational of city name\n",
    "df['City']=df['City'].replace(['Ahmedabad','Ahemdabad','Ahemadabad'],'Ahmadabad')"
   ]
  },
  {
   "cell_type": "markdown",
   "id": "ada73213-d0c0-4470-8fff-3b998e3213cc",
   "metadata": {},
   "source": [
    "df[df['Investor'] == 'Ratan Tata'].shape[0]"
   ]
  },
  {
   "cell_type": "code",
   "execution_count": 37,
   "id": "822d11a8-27a5-4f13-8ecb-c11b3fdb257f",
   "metadata": {},
   "outputs": [
    {
     "data": {
      "text/html": [
       "<div>\n",
       "<style scoped>\n",
       "    .dataframe tbody tr th:only-of-type {\n",
       "        vertical-align: middle;\n",
       "    }\n",
       "\n",
       "    .dataframe tbody tr th {\n",
       "        vertical-align: top;\n",
       "    }\n",
       "\n",
       "    .dataframe thead th {\n",
       "        text-align: right;\n",
       "    }\n",
       "</style>\n",
       "<table border=\"1\" class=\"dataframe\">\n",
       "  <thead>\n",
       "    <tr style=\"text-align: right;\">\n",
       "      <th></th>\n",
       "      <th>Date</th>\n",
       "      <th>startup</th>\n",
       "      <th>Vertical</th>\n",
       "      <th>City</th>\n",
       "      <th>Investment_type</th>\n",
       "      <th>Amount</th>\n",
       "    </tr>\n",
       "    <tr>\n",
       "      <th>Sr No</th>\n",
       "      <th></th>\n",
       "      <th></th>\n",
       "      <th></th>\n",
       "      <th></th>\n",
       "      <th></th>\n",
       "      <th></th>\n",
       "    </tr>\n",
       "  </thead>\n",
       "  <tbody>\n",
       "    <tr>\n",
       "      <th>348</th>\n",
       "      <td>27/03/2018</td>\n",
       "      <td>The Print</td>\n",
       "      <td>Media</td>\n",
       "      <td>Delhi</td>\n",
       "      <td>Seed / Angel Funding</td>\n",
       "      <td>4.51433</td>\n",
       "    </tr>\n",
       "    <tr>\n",
       "      <th>839</th>\n",
       "      <td>23/05/2017</td>\n",
       "      <td>The Print</td>\n",
       "      <td>Consumer Internet</td>\n",
       "      <td>New Delhi</td>\n",
       "      <td>Seed Funding</td>\n",
       "      <td>159.08811</td>\n",
       "    </tr>\n",
       "    <tr>\n",
       "      <th>1267</th>\n",
       "      <td>04/10/2016</td>\n",
       "      <td>GOQii</td>\n",
       "      <td>Consumer Internet</td>\n",
       "      <td>Mumbai</td>\n",
       "      <td>Private Equity</td>\n",
       "      <td>159.08811</td>\n",
       "    </tr>\n",
       "    <tr>\n",
       "      <th>1368</th>\n",
       "      <td>13/09/2016</td>\n",
       "      <td>IdeaChakki</td>\n",
       "      <td>Consumer Internet</td>\n",
       "      <td>Delhi</td>\n",
       "      <td>Seed Funding</td>\n",
       "      <td>159.08811</td>\n",
       "    </tr>\n",
       "    <tr>\n",
       "      <th>1591</th>\n",
       "      <td>10/06/2016</td>\n",
       "      <td>Kyazoonga</td>\n",
       "      <td>eCommerce</td>\n",
       "      <td>Mumbai</td>\n",
       "      <td>Seed Funding</td>\n",
       "      <td>159.08811</td>\n",
       "    </tr>\n",
       "  </tbody>\n",
       "</table>\n",
       "</div>"
      ],
      "text/plain": [
       "             Date     startup           Vertical       City  \\\n",
       "Sr No                                                         \n",
       "348    27/03/2018   The Print              Media      Delhi   \n",
       "839    23/05/2017   The Print  Consumer Internet  New Delhi   \n",
       "1267   04/10/2016       GOQii  Consumer Internet     Mumbai   \n",
       "1368   13/09/2016  IdeaChakki  Consumer Internet      Delhi   \n",
       "1591   10/06/2016   Kyazoonga          eCommerce     Mumbai   \n",
       "\n",
       "            Investment_type     Amount  \n",
       "Sr No                                   \n",
       "348    Seed / Angel Funding    4.51433  \n",
       "839            Seed Funding  159.08811  \n",
       "1267         Private Equity  159.08811  \n",
       "1368           Seed Funding  159.08811  \n",
       "1591           Seed Funding  159.08811  "
      ]
     },
     "execution_count": 37,
     "metadata": {},
     "output_type": "execute_result"
    }
   ],
   "source": [
    "#Recent 5 Investments done by Ratan Tata\n",
    "df[df['Investor'].str.contains('Ratan Tata')][['Date','startup','Vertical','City','Investment_type','Amount']].head(5)"
   ]
  },
  {
   "cell_type": "code",
   "execution_count": 38,
   "id": "0faa5ee1-11d3-4ac8-b06b-1f6a06cac7eb",
   "metadata": {},
   "outputs": [
    {
     "data": {
      "text/plain": [
       "<Axes: xlabel='startup'>"
      ]
     },
     "execution_count": 38,
     "metadata": {},
     "output_type": "execute_result"
    },
    {
     "data": {
      "image/png": "[encoded data removed]",
      "text/plain": [
       "<Figure size 640x480 with 1 Axes>"
      ]
     },
     "metadata": {},
     "output_type": "display_data"
    }
   ],
   "source": [
    "#top 5 most funded startups\n",
    "df.groupby('startup')['Amount'].sum().sort_values(ascending = False).head(5).plot(kind= 'bar')"
   ]
  },
  {
   "cell_type": "code",
   "execution_count": 41,
   "id": "25768435-9536-47cb-946d-2a9509512400",
   "metadata": {},
   "outputs": [
    {
     "data": {
      "text/plain": [
       "<Axes: xlabel='Subvertical'>"
      ]
     },
     "execution_count": 41,
     "metadata": {},
     "output_type": "execute_result"
    },
    {
     "data": {
      "image/png": "[encoded data removed]",
      "text/plain": [
       "<Figure size 640x480 with 1 Axes>"
      ]
     },
     "metadata": {},
     "output_type": "display_data"
    }
   ],
   "source": [
    "#Which subvertical receive the highest funding\n",
    "df['Subvertical'].value_counts().head(3).plot(kind = 'bar')"
   ]
  },
  {
   "cell_type": "code",
   "execution_count": 42,
   "id": "f18651c2-bdef-4bed-bd0c-9a2cc0be13a6",
   "metadata": {},
   "outputs": [],
   "source": [
    "#Who are the top 3 investors in FinTech sector\n",
    "new_df = df[df['Vertical'] == 'FinTech'][['Investor','Amount','Vertical']].sort_values(ascending = False,by='Amount').head(3)"
   ]
  },
  {
   "cell_type": "code",
   "execution_count": 43,
   "id": "b85dc1b9-1179-4f3d-9f5c-6f3c30074a25",
   "metadata": {},
   "outputs": [
    {
     "data": {
      "text/html": [
       "<div>\n",
       "<style scoped>\n",
       "    .dataframe tbody tr th:only-of-type {\n",
       "        vertical-align: middle;\n",
       "    }\n",
       "\n",
       "    .dataframe tbody tr th {\n",
       "        vertical-align: top;\n",
       "    }\n",
       "\n",
       "    .dataframe thead th {\n",
       "        text-align: right;\n",
       "    }\n",
       "</style>\n",
       "<table border=\"1\" class=\"dataframe\">\n",
       "  <thead>\n",
       "    <tr style=\"text-align: right;\">\n",
       "      <th></th>\n",
       "      <th>Investor</th>\n",
       "      <th>Amount</th>\n",
       "      <th>Vertical</th>\n",
       "    </tr>\n",
       "    <tr>\n",
       "      <th>Sr No</th>\n",
       "      <th></th>\n",
       "      <th></th>\n",
       "      <th></th>\n",
       "    </tr>\n",
       "  </thead>\n",
       "  <tbody>\n",
       "    <tr>\n",
       "      <th>32</th>\n",
       "      <td>Vijay Shekhar Sharma</td>\n",
       "      <td>8438.000</td>\n",
       "      <td>FinTech</td>\n",
       "    </tr>\n",
       "    <tr>\n",
       "      <th>55</th>\n",
       "      <td>RPS Ventures</td>\n",
       "      <td>928.180</td>\n",
       "      <td>FinTech</td>\n",
       "    </tr>\n",
       "    <tr>\n",
       "      <th>87</th>\n",
       "      <td>WestBridge Capital</td>\n",
       "      <td>438.776</td>\n",
       "      <td>FinTech</td>\n",
       "    </tr>\n",
       "  </tbody>\n",
       "</table>\n",
       "</div>"
      ],
      "text/plain": [
       "                   Investor    Amount Vertical\n",
       "Sr No                                         \n",
       "32     Vijay Shekhar Sharma  8438.000  FinTech\n",
       "55             RPS Ventures   928.180  FinTech\n",
       "87       WestBridge Capital   438.776  FinTech"
      ]
     },
     "execution_count": 43,
     "metadata": {},
     "output_type": "execute_result"
    }
   ],
   "source": [
    "new_df"
   ]
  },
  {
   "cell_type": "code",
   "execution_count": 45,
   "id": "0fb5bb0d-b382-42df-8476-5d6554a30730",
   "metadata": {},
   "outputs": [
    {
     "data": {
      "text/plain": [
       "<Axes: xlabel='Investor', ylabel='Amount'>"
      ]
     },
     "execution_count": 45,
     "metadata": {},
     "output_type": "execute_result"
    },
    {
     "data": {
      "image/png": "[encoded data removed]",
      "text/plain": [
       "<Figure size 640x480 with 1 Axes>"
      ]
     },
     "metadata": {},
     "output_type": "display_data"
    }
   ],
   "source": [
    "sns.barplot(data =new_df , x = 'Investor' , y = 'Amount' )"
   ]
  },
  {
   "cell_type": "code",
   "execution_count": null,
   "id": "461f9109-029c-4aaa-84f9-1597655b7bc5",
   "metadata": {},
   "outputs": [],
   "source": []
  },
  {
   "cell_type": "code",
   "execution_count": null,
   "id": "93264f8a-a4ad-483a-9133-9570a5bd4e7f",
   "metadata": {},
   "outputs": [],
   "source": []
  }
 ],
 "metadata": {
  "kernelspec": {
   "display_name": "Python 3 (ipykernel)",
   "language": "python",
   "name": "python3"
  },
  "language_info": {
   "codemirror_mode": {
    "name": "ipython",
    "version": 3
   },
   "file_extension": ".py",
   "mimetype": "text/x-python",
   "name": "python",
   "nbconvert_exporter": "python",
   "pygments_lexer": "ipython3",
   "version": "3.13.1"
  }
 },
 "nbformat": 4,
 "nbformat_minor": 5
}
